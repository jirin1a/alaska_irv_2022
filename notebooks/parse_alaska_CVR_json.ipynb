{
 "cells": [
  {
   "cell_type": "markdown",
   "metadata": {},
   "source": [
    "# Parsing the Cast-Vote Record of Alaska Special Election 09/2022\n",
    "The Alaska Election Office has released full Cast Vote Records (CVR) on 09/08/2022.\n",
    "This notebook contains steps we took to extract rankings for the following IRV race: \n",
    "`Special Election for House Representative`\n",
    "Please note that we cannot guarantee correctness of these processing steps. "
   ]
  },
  {
   "cell_type": "code",
   "execution_count": 1,
   "metadata": {},
   "outputs": [],
   "source": [
    "import json\n",
    "import numpy as np\n",
    "import pandas as pd\n",
    "import os"
   ]
  },
  {
   "cell_type": "markdown",
   "metadata": {},
   "source": [
    "### Download and unzip the json in your local directory. Specify your path here:\n",
    "https://www.elections.alaska.gov/election-results/e/?id=22sspg  (download https://www.elections.alaska.gov/results/22SSPG/CVR_Export_20220908084311.zip)"
   ]
  },
  {
   "cell_type": "code",
   "execution_count": 2,
   "metadata": {},
   "outputs": [],
   "source": [
    "datadir = \"../../ranked-voting/data/AlaskaSpecial22/\"  # adjust \n",
    "exclude_ambiguous_ballots = True  # if any ballot mark has `IsAmbiguous==True` exclude the ballot "
   ]
  },
  {
   "cell_type": "code",
   "execution_count": 3,
   "metadata": {},
   "outputs": [],
   "source": [
    "with open(os.path.join(datadir, 'CvrExport.json'), 'rt') as f:\n",
    "    data = json.load(f)"
   ]
  },
  {
   "cell_type": "code",
   "execution_count": 4,
   "metadata": {},
   "outputs": [],
   "source": [
    "with open(os.path.join(datadir, \"ContestManifest.json\"), 'rt') as f:\n",
    "    contest_mani = json.load(f)"
   ]
  },
  {
   "cell_type": "code",
   "execution_count": 5,
   "metadata": {},
   "outputs": [],
   "source": [
    "with open(os.path.join(datadir, \"CandidateManifest.json\")) as f:\n",
    "    cand_mani = json.load(f)"
   ]
  },
  {
   "cell_type": "markdown",
   "metadata": {},
   "source": [
    "This is the only IRV election: `Id==69`"
   ]
  },
  {
   "cell_type": "code",
   "execution_count": 6,
   "metadata": {},
   "outputs": [
    {
     "data": {
      "text/plain": [
       "{'Description': 'U.S. Representative (Special General)',\n",
       " 'Id': 69,\n",
       " 'ExternalId': '',\n",
       " 'DistrictId': 67,\n",
       " 'VoteFor': 1,\n",
       " 'NumOfRanks': 4}"
      ]
     },
     "execution_count": 6,
     "metadata": {},
     "output_type": "execute_result"
    }
   ],
   "source": [
    "contest_mani['List'][-1]"
   ]
  },
  {
   "cell_type": "markdown",
   "metadata": {},
   "source": [
    "### Get a candidateID-to-candidateName translation table \n",
    "We also replace commas by '\\_' to avoid separator collisions downstream"
   ]
  },
  {
   "cell_type": "code",
   "execution_count": 7,
   "metadata": {},
   "outputs": [],
   "source": [
    "# Create a candidateID to name index\n",
    "id2cand = {}\n",
    "for i in cand_mani['List']:\n",
    "    id2cand[i['Id']] = i['Description'].replace(',','_')"
   ]
  },
  {
   "cell_type": "code",
   "execution_count": 8,
   "metadata": {},
   "outputs": [
    {
     "data": {
      "text/plain": [
       "dict_keys(['Version', 'ElectionId', 'Sessions'])"
      ]
     },
     "execution_count": 8,
     "metadata": {},
     "output_type": "execute_result"
    }
   ],
   "source": [
    "data.keys()"
   ]
  },
  {
   "cell_type": "markdown",
   "metadata": {},
   "source": [
    "Each session corresponds to a ballot (that may contain vote marks for multiple races) "
   ]
  },
  {
   "cell_type": "code",
   "execution_count": 9,
   "metadata": {},
   "outputs": [
    {
     "data": {
      "text/plain": [
       "192289"
      ]
     },
     "execution_count": 9,
     "metadata": {},
     "output_type": "execute_result"
    }
   ],
   "source": [
    "len(data['Sessions'])"
   ]
  },
  {
   "cell_type": "code",
   "execution_count": 10,
   "metadata": {},
   "outputs": [],
   "source": [
    "sessions = data['Sessions']"
   ]
  },
  {
   "cell_type": "markdown",
   "metadata": {},
   "source": [
    "Grab only race 69, i.e., the special election for House representative (the only RCV election) "
   ]
  },
  {
   "cell_type": "code",
   "execution_count": 11,
   "metadata": {},
   "outputs": [],
   "source": [
    "rcv_ballots = []\n",
    "special_id = 69   # this is from ContestManifest special election\n",
    "for s in sessions:\n",
    "    aux = [i for i in s['Original']['Cards'][0]['Contests'] if i['Id']==special_id]\n",
    "    if len(aux) > 0:\n",
    "        rcv_ballots.append(aux[0])"
   ]
  },
  {
   "cell_type": "code",
   "execution_count": 12,
   "metadata": {},
   "outputs": [
    {
     "data": {
      "text/plain": [
       "{'Id': 69,\n",
       " 'ManifestationId': 64,\n",
       " 'Undervotes': 0,\n",
       " 'Overvotes': 0,\n",
       " 'OutstackConditionIds': [14],\n",
       " 'Marks': [{'CandidateId': 218,\n",
       "   'ManifestationId': 953,\n",
       "   'PartyId': 6,\n",
       "   'Rank': 1,\n",
       "   'MarkDensity': 100,\n",
       "   'IsAmbiguous': False,\n",
       "   'IsVote': True,\n",
       "   'OutstackConditionIds': []},\n",
       "  {'CandidateId': 215,\n",
       "   'ManifestationId': 955,\n",
       "   'PartyId': 14,\n",
       "   'Rank': 2,\n",
       "   'MarkDensity': 100,\n",
       "   'IsAmbiguous': False,\n",
       "   'IsVote': False,\n",
       "   'OutstackConditionIds': []}]}"
      ]
     },
     "execution_count": 12,
     "metadata": {},
     "output_type": "execute_result"
    }
   ],
   "source": [
    "rcv_ballots[0]"
   ]
  },
  {
   "cell_type": "markdown",
   "metadata": {},
   "source": [
    "Process a single list of \"marks\" == one ranking of one voter. \n",
    "We handle over and undervotes also. \n",
    "Overvote: person ranked multiple candidates at same rank position.\n",
    "Undervote: gap in rank sequence (excludes trailing gaps - those are valid partial rankings)"
   ]
  },
  {
   "cell_type": "code",
   "execution_count": 21,
   "metadata": {},
   "outputs": [],
   "source": [
    "def ballot_is_ambiguous(m):\n",
    "    return False if len(m) < 1 else any([i['IsAmbiguous'] for i in m])"
   ]
  },
  {
   "cell_type": "code",
   "execution_count": 30,
   "metadata": {},
   "outputs": [],
   "source": [
    "# TODO: optionally handle ambiguous marks\n",
    "def process_marks(m, id2cand, max_ranks=4, handle_ambiguous=False):\n",
    "    \"\"\"\n",
    "        Returns a list of candidates; number of marks removed/ignored\n",
    "    \"\"\"\n",
    "    nignored = 0\n",
    "    if handle_ambiguous:\n",
    "        # delete all marks that are labeled ambiguous\n",
    "        newm = [i for i in m if not i['IsAmbiguous']]\n",
    "        nignored += len(m) - len(newm)\n",
    "        m = newm\n",
    "    if len(m) < 1:\n",
    "        return ['undervote'], nignored        \n",
    "    m = sorted(m, key=lambda x: x['Rank'])\n",
    "    rnk = {}\n",
    "    # assign ranks and check overvotes\n",
    "    for mm in m:\n",
    "        rank = mm['Rank']\n",
    "        if rank in rnk:  # Overvote\n",
    "            rnk[rank] = 'overvote'\n",
    "        else:  # valid rank (first occurrence)\n",
    "            rnk[rank] = id2cand[mm['CandidateId']]\n",
    "    # check undervotes            \n",
    "    highest_rank = max([i for i in rnk.keys()])\n",
    "    for i in range(1, highest_rank):\n",
    "        rnk[i] = 'undervote' if i not in rnk else rnk[i]\n",
    "    return [rnk[i] for i in sorted(rnk.keys())], nignored"
   ]
  },
  {
   "cell_type": "markdown",
   "metadata": {},
   "source": [
    "Use the above routine to process all rankings and store in `csvrows`"
   ]
  },
  {
   "cell_type": "code",
   "execution_count": 26,
   "metadata": {},
   "outputs": [],
   "source": [
    "def num_ambiguous_marks(m):\n",
    "    return 0 if len(m) < 1 else np.sum([i['IsAmbiguous'] for i in m])"
   ]
  },
  {
   "cell_type": "code",
   "execution_count": 27,
   "metadata": {},
   "outputs": [
    {
     "name": "stdout",
     "output_type": "stream",
     "text": [
      "Ambiguous-marks stats: Counter({0: 192116, 1: 143, 2: 9, 3: 7, 4: 4, 8: 3, 12: 2, 7: 2, 10: 1, 6: 1, 5: 1})\n",
      "Total ambiguous = 281\n"
     ]
    }
   ],
   "source": [
    "from collections import Counter\n",
    "cnt = []\n",
    "tot_ambiguous = 0\n",
    "for b in rcv_ballots:\n",
    "    c = num_ambiguous_marks(b['Marks'])\n",
    "    cnt.append(c)\n",
    "    tot_ambiguous += c\n",
    "print(f\"Ambiguous-marks stats: {Counter(cnt)}\")\n",
    "print(f\"Total ambiguous = {tot_ambiguous}\")"
   ]
  },
  {
   "cell_type": "code",
   "execution_count": 31,
   "metadata": {},
   "outputs": [
    {
     "name": "stdout",
     "output_type": "stream",
     "text": [
      "INFO: Num ignored marks = 281\n"
     ]
    }
   ],
   "source": [
    "# Convert everything to list of lists\n",
    "csvrows = []\n",
    "nignored = 0\n",
    "for k in rcv_ballots:\n",
    "    r, n = process_marks(k['Marks'], id2cand, handle_ambiguous=exclude_ambiguous_ballots)                    \n",
    "    csvrows.append(r)\n",
    "    nignored += n\n",
    "print(f'INFO: Num ignored marks = {nignored}')"
   ]
  },
  {
   "cell_type": "code",
   "execution_count": 32,
   "metadata": {},
   "outputs": [],
   "source": [
    "## this will exclude any ballot with an ambiguous mark \n",
    "# # Convert everything to list of lists\n",
    "# csvrows = []\n",
    "# ambiguous = 0\n",
    "# for b in rcv_ballots:    \n",
    "#     if exclude_ambiguous_ballots and is_ambiguous(b['Marks']):\n",
    "#         ambiguous += 1\n",
    "#         continue\n",
    "#     csvrows.append(process_marks(b['Marks'], id2cand))\n",
    "# if ambiguous > 0:\n",
    "#     print(f\"INFO: Excluded {ambiguous} ambiguous ballots.\")"
   ]
  },
  {
   "cell_type": "code",
   "execution_count": 36,
   "metadata": {},
   "outputs": [
    {
     "data": {
      "text/plain": [
       "[['Peltola_ Mary S.', 'Begich_ Nick'],\n",
       " ['Peltola_ Mary S.'],\n",
       " ['Peltola_ Mary S.'],\n",
       " ['Peltola_ Mary S.'],\n",
       " ['Peltola_ Mary S.', 'Begich_ Nick', 'Palin_ Sarah'],\n",
       " ['Peltola_ Mary S.'],\n",
       " ['Palin_ Sarah'],\n",
       " ['Peltola_ Mary S.', 'Begich_ Nick'],\n",
       " ['Peltola_ Mary S.', 'Begich_ Nick', 'Palin_ Sarah'],\n",
       " ['Begich_ Nick', 'Palin_ Sarah', 'Peltola_ Mary S.']]"
      ]
     },
     "execution_count": 36,
     "metadata": {},
     "output_type": "execute_result"
    }
   ],
   "source": [
    "csvrows[:10]"
   ]
  },
  {
   "cell_type": "markdown",
   "metadata": {},
   "source": [
    "Sanity check: overvotes, undervotes"
   ]
  },
  {
   "cell_type": "code",
   "execution_count": 37,
   "metadata": {},
   "outputs": [],
   "source": [
    "ov = [i for i in rcv_ballots if i['Overvotes']>0]\n",
    "uv = [i for i in rcv_ballots if i['Undervotes']>0]\n",
    "ouv = [i for i in rcv_ballots if i['Undervotes']>0 and i['Overvotes']>0 ]"
   ]
  },
  {
   "cell_type": "code",
   "execution_count": 38,
   "metadata": {},
   "outputs": [
    {
     "data": {
      "text/plain": [
       "[{'Id': 69,\n",
       "  'ManifestationId': 64,\n",
       "  'Undervotes': 1,\n",
       "  'Overvotes': 0,\n",
       "  'OutstackConditionIds': [13],\n",
       "  'Marks': []},\n",
       " {'Id': 69,\n",
       "  'ManifestationId': 64,\n",
       "  'Undervotes': 1,\n",
       "  'Overvotes': 0,\n",
       "  'OutstackConditionIds': [13],\n",
       "  'Marks': []},\n",
       " {'Id': 69,\n",
       "  'ManifestationId': 64,\n",
       "  'Undervotes': 1,\n",
       "  'Overvotes': 0,\n",
       "  'OutstackConditionIds': [13],\n",
       "  'Marks': []}]"
      ]
     },
     "execution_count": 38,
     "metadata": {},
     "output_type": "execute_result"
    }
   ],
   "source": [
    "uv[:3]"
   ]
  },
  {
   "cell_type": "markdown",
   "metadata": {},
   "source": [
    "### Save as CSV file of your choosing"
   ]
  },
  {
   "cell_type": "code",
   "execution_count": 39,
   "metadata": {},
   "outputs": [],
   "source": [
    "pd.DataFrame(csvrows).to_csv('tmp.csv')"
   ]
  },
  {
   "cell_type": "code",
   "execution_count": null,
   "metadata": {},
   "outputs": [],
   "source": []
  }
 ],
 "metadata": {
  "kernelspec": {
   "display_name": "tensorflow",
   "language": "python",
   "name": "tensorflow"
  },
  "language_info": {
   "codemirror_mode": {
    "name": "ipython",
    "version": 3
   },
   "file_extension": ".py",
   "mimetype": "text/x-python",
   "name": "python",
   "nbconvert_exporter": "python",
   "pygments_lexer": "ipython3",
   "version": "3.7.11"
  }
 },
 "nbformat": 4,
 "nbformat_minor": 5
}
