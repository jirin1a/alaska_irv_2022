{
 "cells": [
  {
   "cell_type": "markdown",
   "id": "e29d24dd",
   "metadata": {},
   "source": [
    "# Parsing the Cast-Vote Record of Alaska Special Election 09/2022\n",
    "The Alaska Election Office has released full Cast Vote Records (CVR) on 09/08/2022.\n",
    "This notebook contains steps we took to extract rankings for the following IRV race: \n",
    "`Special Election for House Representative`\n",
    "Please note that we cannot guarantee correctness of these processing steps. "
   ]
  },
  {
   "cell_type": "code",
   "execution_count": 134,
   "id": "58df72cd",
   "metadata": {},
   "outputs": [],
   "source": [
    "import json\n",
    "import numpy as np\n",
    "import pandas as pd\n",
    "import os"
   ]
  },
  {
   "cell_type": "markdown",
   "id": "adbc05f2",
   "metadata": {},
   "source": [
    "### Download and unzip the json in your local directory. Specify your path here:\n",
    "https://www.elections.alaska.gov/election-results/e/?id=22sspg  (download https://www.elections.alaska.gov/results/22SSPG/CVR_Export_20220908084311.zip)"
   ]
  },
  {
   "cell_type": "code",
   "execution_count": 133,
   "id": "0171a2c4",
   "metadata": {},
   "outputs": [],
   "source": [
    "datadir = \"../../data/AlaskaSpecial22/\"  # adjust "
   ]
  },
  {
   "cell_type": "code",
   "execution_count": 135,
   "id": "3504cbb3",
   "metadata": {},
   "outputs": [],
   "source": [
    "with open(os.path.join(datadir, 'CvrExport.json'), 'rt') as f:\n",
    "    data = json.load(f)"
   ]
  },
  {
   "cell_type": "code",
   "execution_count": 136,
   "id": "6286542f",
   "metadata": {},
   "outputs": [],
   "source": [
    "with open(os.path.join(datadir, \"ContestManifest.json\"), 'rt') as f:\n",
    "    contest_mani = json.load(f)"
   ]
  },
  {
   "cell_type": "code",
   "execution_count": 137,
   "id": "d9ddbb86",
   "metadata": {},
   "outputs": [],
   "source": [
    "with open(os.path.join(datadir, \"CandidateManifest.json\")) as f:\n",
    "    cand_mani = json.load(f)"
   ]
  },
  {
   "cell_type": "markdown",
   "id": "e67f6d69",
   "metadata": {},
   "source": [
    "This is the only IRV election: `Id==69`"
   ]
  },
  {
   "cell_type": "code",
   "execution_count": 156,
   "id": "81038167",
   "metadata": {},
   "outputs": [
    {
     "data": {
      "text/plain": [
       "{'Description': 'U.S. Representative (Special General)',\n",
       " 'Id': 69,\n",
       " 'ExternalId': '',\n",
       " 'DistrictId': 67,\n",
       " 'VoteFor': 1,\n",
       " 'NumOfRanks': 4}"
      ]
     },
     "execution_count": 156,
     "metadata": {},
     "output_type": "execute_result"
    }
   ],
   "source": [
    "contest_mani['List'][-1]"
   ]
  },
  {
   "cell_type": "markdown",
   "id": "6bb506de",
   "metadata": {},
   "source": [
    "### Get a candidateID-to-candidateName translation table \n",
    "We also replace commas by '\\_' to avoid separator collisions downstream"
   ]
  },
  {
   "cell_type": "code",
   "execution_count": 138,
   "id": "8738dd5f",
   "metadata": {},
   "outputs": [],
   "source": [
    "# Create a candidateID to name index\n",
    "id2cand = {}\n",
    "for i in cand_mani['List']:\n",
    "    id2cand[i['Id']] = i['Description'].replace(',','_')"
   ]
  },
  {
   "cell_type": "code",
   "execution_count": 121,
   "id": "48817d36",
   "metadata": {},
   "outputs": [
    {
     "data": {
      "text/plain": [
       "dict_keys(['Version', 'ElectionId', 'Sessions'])"
      ]
     },
     "execution_count": 121,
     "metadata": {},
     "output_type": "execute_result"
    }
   ],
   "source": [
    "data.keys()"
   ]
  },
  {
   "cell_type": "markdown",
   "id": "07b6aa07",
   "metadata": {},
   "source": [
    "Each session corresponds to a ballot (that may contain vote marks for multiple races) "
   ]
  },
  {
   "cell_type": "code",
   "execution_count": 122,
   "id": "c32f412e",
   "metadata": {},
   "outputs": [
    {
     "data": {
      "text/plain": [
       "192289"
      ]
     },
     "execution_count": 122,
     "metadata": {},
     "output_type": "execute_result"
    }
   ],
   "source": [
    "len(data['Sessions'])"
   ]
  },
  {
   "cell_type": "code",
   "execution_count": 123,
   "id": "595c60ae",
   "metadata": {},
   "outputs": [],
   "source": [
    "sessions = data['Sessions']"
   ]
  },
  {
   "cell_type": "markdown",
   "id": "ade85aaf",
   "metadata": {},
   "source": [
    "Grab only race 69, i.e., the special election for House representative (the only RCV election) "
   ]
  },
  {
   "cell_type": "code",
   "execution_count": 124,
   "id": "b00fcc2c",
   "metadata": {},
   "outputs": [],
   "source": [
    "rcv_ballots = []\n",
    "special_id = 69   # this is from ContestManifest special election\n",
    "for s in sessions:\n",
    "    aux = [i for i in s['Original']['Cards'][0]['Contests'] if i['Id']==special_id]\n",
    "    if len(aux) > 0:\n",
    "        rcv_ballots.append(aux[0])"
   ]
  },
  {
   "cell_type": "markdown",
   "id": "6dfbd0cb",
   "metadata": {},
   "source": [
    "Process a single list of \"marks\" == one ranking of one voter. \n",
    "We handle over and undervotes also. \n",
    "Overvote: person ranked multiple candidates at same rank position.\n",
    "Undervote: gap in rank sequence (excludes trailing gaps - those are valid partial rankings)"
   ]
  },
  {
   "cell_type": "code",
   "execution_count": 139,
   "id": "3166f4ec",
   "metadata": {},
   "outputs": [],
   "source": [
    "def process_marks(m, id2cand, max_ranks=4):\n",
    "    if len(m) < 1:\n",
    "        return ['undervote']\n",
    "    m = sorted(m, key=lambda x: x['Rank'])\n",
    "    rnk = {}\n",
    "    # assign ranks and check overvotes\n",
    "    for mm in m:\n",
    "        rank = mm['Rank']\n",
    "        if rank in rnk:  # Overvote\n",
    "            rnk[rank] = 'overvote'\n",
    "        else:  # valid rank (first occurrence)\n",
    "            rnk[rank] = id2cand[mm['CandidateId']]\n",
    "    # check undervotes            \n",
    "    highest_rank = max([i for i in rnk.keys()])\n",
    "    for i in range(1, highest_rank):\n",
    "        rnk[i] = 'undervote' if i not in rnk else rnk[i]\n",
    "    return [rnk[i] for i in sorted(rnk.keys())]"
   ]
  },
  {
   "cell_type": "markdown",
   "id": "645dce4f",
   "metadata": {},
   "source": [
    "Use the above routine to process all rankings and store in `csvrows`"
   ]
  },
  {
   "cell_type": "code",
   "execution_count": 140,
   "id": "c8d11f2b",
   "metadata": {},
   "outputs": [],
   "source": [
    "# Convert everything to list of lists\n",
    "csvrows = [process_marks(k['Marks'], id2cand) for k in rcv_ballots]"
   ]
  },
  {
   "cell_type": "code",
   "execution_count": 151,
   "id": "e0cb9d49",
   "metadata": {},
   "outputs": [
    {
     "data": {
      "text/plain": [
       "[['Peltola, Mary S.', 'Begich, Nick'],\n",
       " ['Peltola, Mary S.'],\n",
       " ['Peltola, Mary S.'],\n",
       " ['Peltola, Mary S.'],\n",
       " ['Peltola, Mary S.', 'Begich, Nick', 'Palin, Sarah'],\n",
       " ['Peltola, Mary S.'],\n",
       " ['Palin, Sarah'],\n",
       " ['Peltola, Mary S.', 'Begich, Nick'],\n",
       " ['Peltola, Mary S.', 'Begich, Nick', 'Palin, Sarah'],\n",
       " ['Begich, Nick', 'Palin, Sarah', 'Peltola, Mary S.']]"
      ]
     },
     "execution_count": 151,
     "metadata": {},
     "output_type": "execute_result"
    }
   ],
   "source": [
    "rankings[:10]"
   ]
  },
  {
   "cell_type": "markdown",
   "id": "fb85dafa",
   "metadata": {},
   "source": [
    "Sanity check: overvotes, undervotes"
   ]
  },
  {
   "cell_type": "code",
   "execution_count": 142,
   "id": "23380fd8",
   "metadata": {},
   "outputs": [],
   "source": [
    "ov = [i for i in rcv_ballots if i['Overvotes']>0]\n",
    "uv = [i for i in rcv_ballots if i['Undervotes']>0]\n",
    "ouv = [i for i in rcv_ballots if i['Undervotes']>0 and i['Overvotes']>0 ]"
   ]
  },
  {
   "cell_type": "code",
   "execution_count": 150,
   "id": "2647b704",
   "metadata": {},
   "outputs": [
    {
     "data": {
      "text/plain": [
       "[{'Id': 69,\n",
       "  'ManifestationId': 64,\n",
       "  'Undervotes': 1,\n",
       "  'Overvotes': 0,\n",
       "  'OutstackConditionIds': [13],\n",
       "  'Marks': []},\n",
       " {'Id': 69,\n",
       "  'ManifestationId': 64,\n",
       "  'Undervotes': 1,\n",
       "  'Overvotes': 0,\n",
       "  'OutstackConditionIds': [13],\n",
       "  'Marks': []},\n",
       " {'Id': 69,\n",
       "  'ManifestationId': 64,\n",
       "  'Undervotes': 1,\n",
       "  'Overvotes': 0,\n",
       "  'OutstackConditionIds': [13],\n",
       "  'Marks': []}]"
      ]
     },
     "execution_count": 150,
     "metadata": {},
     "output_type": "execute_result"
    }
   ],
   "source": [
    "uv[:3]"
   ]
  },
  {
   "cell_type": "code",
   "execution_count": 148,
   "id": "a1e5a194",
   "metadata": {},
   "outputs": [
    {
     "data": {
      "text/plain": [
       "[['Peltola_ Mary S.', 'Begich_ Nick'],\n",
       " ['Peltola_ Mary S.'],\n",
       " ['Peltola_ Mary S.'],\n",
       " ['Peltola_ Mary S.'],\n",
       " ['Peltola_ Mary S.', 'Begich_ Nick', 'Palin_ Sarah'],\n",
       " ['Peltola_ Mary S.'],\n",
       " ['Palin_ Sarah'],\n",
       " ['Peltola_ Mary S.', 'Begich_ Nick'],\n",
       " ['Peltola_ Mary S.', 'Begich_ Nick', 'Palin_ Sarah'],\n",
       " ['Begich_ Nick', 'Palin_ Sarah', 'Peltola_ Mary S.']]"
      ]
     },
     "execution_count": 148,
     "metadata": {},
     "output_type": "execute_result"
    }
   ],
   "source": [
    "csvrows[:10]"
   ]
  },
  {
   "cell_type": "markdown",
   "id": "c67778e3",
   "metadata": {},
   "source": [
    "### Save as CSV file of your choosing"
   ]
  },
  {
   "cell_type": "code",
   "execution_count": 130,
   "id": "2057bdc5",
   "metadata": {},
   "outputs": [],
   "source": [
    "pd.DataFrame(csvrows).to_csv('tmp.csv')"
   ]
  }
 ],
 "metadata": {
  "kernelspec": {
   "display_name": "tensorflow",
   "language": "python",
   "name": "tensorflow"
  },
  "language_info": {
   "codemirror_mode": {
    "name": "ipython",
    "version": 3
   },
   "file_extension": ".py",
   "mimetype": "text/x-python",
   "name": "python",
   "nbconvert_exporter": "python",
   "pygments_lexer": "ipython3",
   "version": "3.7.11"
  }
 },
 "nbformat": 4,
 "nbformat_minor": 5
}
